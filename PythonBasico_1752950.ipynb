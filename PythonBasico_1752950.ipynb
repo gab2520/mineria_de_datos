{
 "cells": [
  {
   "cell_type": "markdown",
   "metadata": {},
   "source": [
    "# Ejercicios basicos python 1"
   ]
  },
  {
   "cell_type": "markdown",
   "metadata": {},
   "source": [
    "### Ejercicio 1: \n",
    "\n",
    "Realiza una variable con tu matricula y realiza una secuencia de imprimir con tu nombre y tu matricula concatenados."
   ]
  },
  {
   "cell_type": "code",
   "execution_count": 14,
   "metadata": {
    "scrolled": true
   },
   "outputs": [
    {
     "name": "stdout",
     "output_type": "stream",
     "text": [
      "Mi nombre es Gabriel Adrian Contreras Garcia, con la matricula: 1752950\n"
     ]
    }
   ],
   "source": [
    "nom=\"Gabriel Adrian Contreras Garcia\"\n",
    "mat=1752950\n",
    "print(\"Mi nombre es \" + nom + \", con la matricula:\",mat)"
   ]
  },
  {
   "cell_type": "markdown",
   "metadata": {},
   "source": [
    " "
   ]
  },
  {
   "cell_type": "markdown",
   "metadata": {},
   "source": [
    "### Ejercicio 2:\n",
    "\n",
    "Pidiendo el input del usuario pide dos números y crea una pequeña calculadora con los operadores básicos de suma, resta, multiplicación, división, y exponente."
   ]
  },
  {
   "cell_type": "code",
   "execution_count": 20,
   "metadata": {},
   "outputs": [
    {
     "name": "stdout",
     "output_type": "stream",
     "text": [
      "Introduce el número a: 4\n",
      "Introduce el número b: 5\n",
      "\n",
      "Selecciona una opcion: \n",
      "1. suma a+b\n",
      "2. resta a-b\n",
      "3. multiplicacion a*b\n",
      "4. division entera a//b\n",
      "5. division flotante a/b\n",
      "6. modulo a%b\n",
      "7. exponente a^b\n",
      "\n",
      "Introduce tu opcion: 3\n",
      "\n",
      "el resutado de  4 * 5 es =  20\n",
      "\n",
      "desea hacer otra operacion con nuevos numeros: (1.Si/2.No) 1\n",
      "\n",
      "-----------------------------------------------------------------------------\n",
      "Introduce el número a: 2\n",
      "Introduce el número b: 3\n",
      "\n",
      "Selecciona una opcion: \n",
      "1. suma a+b\n",
      "2. resta a-b\n",
      "3. multiplicacion a*b\n",
      "4. division entera a//b\n",
      "5. division flotante a/b\n",
      "6. modulo a%b\n",
      "7. exponente a^b\n",
      "\n",
      "Introduce tu opcion: 7\n",
      "\n",
      "el resutado de  2 ^ 3 es =  8\n",
      "\n",
      "desea hacer otra operacion con nuevos numeros: (1.Si/2.No) 2\n",
      "\n",
      "gracias hasta pronto\n",
      "-----------------------------------------------------------------------------\n"
     ]
    }
   ],
   "source": [
    "salir=1\n",
    "while salir==1:\n",
    "    a1 = int(input(\"Introduce el número a: \"))\n",
    "    b1 = int(input(\"Introduce el número b: \"))\n",
    "    print()\n",
    "    print(\"Selecciona una opcion: \")\n",
    "    print(\"1. suma a+b\")\n",
    "    print(\"2. resta a-b\")\n",
    "    print(\"3. multiplicacion a*b\")\n",
    "    print(\"4. division entera a//b\")\n",
    "    print(\"5. division flotante a/b\")\n",
    "    print(\"6. modulo a%b\")\n",
    "    print(\"7. exponente a^b\")\n",
    "    print()\n",
    "    r=int(input(\"Introduce tu opcion: \"))\n",
    "    print()\n",
    "    if r == 1:\n",
    "        print(\"el resutado de \",a1,\"+\",b1,\"es = \",(a1+b1))\n",
    "    elif r == 2:\n",
    "        print(\"el resutado de \",a1,\"-\",b1,\"es = \",(a1-b1))\n",
    "    elif r == 3:\n",
    "        print(\"el resutado de \",a1,\"*\",b1,\"es = \",(a1*b1))\n",
    "    elif r == 4:\n",
    "        print(\"el resutado de \",a1,\"//\",b1,\"es = \",(a1//b1))\n",
    "    elif r == 5:\n",
    "        print(\"el resutado de \",a1,\"/\",b1,\"es = \",(a1/b1))\n",
    "    elif r == 6:\n",
    "        print(\"el resutado de \",a1,\"%\",b1,\"es = \",(a1%b1))\n",
    "    elif r == 7:\n",
    "        print(\"el resutado de \",a1,\"^\",b1,\"es = \",(a1**b1))\n",
    "    else:\n",
    "        print('error')\n",
    "    print()\n",
    "    salir = int(input(\"desea hacer otra operacion con nuevos numeros: \"\"(\"\"1.Si/2.No\"\")\"\" \"))\n",
    "    print()\n",
    "    if salir!=1:\n",
    "        print(\"gracias hasta pronto\")\n",
    "    print(\"-----------------------------------------------------------------------------\")\n",
    "    "
   ]
  },
  {
   "cell_type": "markdown",
   "metadata": {},
   "source": [
    "### Ejercicio 3: \n",
    "\n",
    "Con loop while o for, realiza una lista de 10 numeros multiplos de 3, y después realiza una función de loop que sume todos los números dentro del arreglo."
   ]
  },
  {
   "cell_type": "code",
   "execution_count": 7,
   "metadata": {},
   "outputs": [
    {
     "name": "stdout",
     "output_type": "stream",
     "text": [
      "la suma de la lista [3, 6, 9, 12, 15, 18, 21, 24, 27, 30] es = 165\n"
     ]
    }
   ],
   "source": [
    "multiplos=[]\n",
    "for i in range(1,11):\n",
    "    multiplos.append(i*3)\n",
    "suma=0\n",
    "for i in multiplos:\n",
    "    suma=suma+i\n",
    "print(\"la suma de la lista\",multiplos,\"es =\",suma)"
   ]
  },
  {
   "cell_type": "markdown",
   "metadata": {},
   "source": [
    "### Ejercicio 4\n",
    "\n",
    "- Con una función de if else, revisar si un número es par o es impar.\n",
    "- Con una función de if else, revisar si un número es primo o no."
   ]
  },
  {
   "cell_type": "code",
   "execution_count": 13,
   "metadata": {},
   "outputs": [
    {
     "name": "stdout",
     "output_type": "stream",
     "text": [
      "ingresa un numero entero: 5\n",
      "el numero 5 es impar\n"
     ]
    }
   ],
   "source": [
    "a=int(input(\"ingresa un numero entero: \"))\n",
    "if a%2==0:\n",
    "    print(\"el numero\",a,\"es par\")\n",
    "else:\n",
    "    print(\"el numero\",a,\"es impar\")"
   ]
  },
  {
   "cell_type": "code",
   "execution_count": 19,
   "metadata": {},
   "outputs": [
    {
     "name": "stdout",
     "output_type": "stream",
     "text": [
      "ingresa un numero entero: 18\n",
      "el numero 18 no es primo\n"
     ]
    }
   ],
   "source": [
    "a=int(input(\"ingresa un numero entero: \"))\n",
    "r=0\n",
    "for i in range(1,a+1):\n",
    "    if a%i==0:\n",
    "        r=r+1\n",
    "if(r==2):\n",
    "    print(\"el numero\",a,\"es primo\")\n",
    "else:\n",
    "    print(\"el numero\",a,\"no es primo\")"
   ]
  },
  {
   "cell_type": "markdown",
   "metadata": {},
   "source": [
    "### Ejercicio 5\n",
    "\n",
    "Utilizando diferentes clases en python, crea una calculadora con los operadores  básicos de suma, resta, multiplicación, división, y exponente."
   ]
  },
  {
   "cell_type": "code",
   "execution_count": 21,
   "metadata": {},
   "outputs": [
    {
     "name": "stdout",
     "output_type": "stream",
     "text": [
      "Introduce el número a: 2\n",
      "Introduce el número b: 3\n",
      "\n",
      "Selecciona una opcion: \n",
      "1. suma a+b\n",
      "2. resta a-b\n",
      "3. multiplicacion a*b\n",
      "4. division entera a//b\n",
      "5. division flotante a/b\n",
      "6. modulo a%b\n",
      "7. exponente a^b\n",
      "\n",
      "Introduce tu opcion: 7\n",
      "\n",
      "el resutado de  2 ^ 3 es =  8\n",
      "\n",
      "desea hacer otra operacion con nuevos numeros: (1.Si/2.No) 1\n",
      "\n",
      "-----------------------------------------------------------------------------\n",
      "Introduce el número a: 4\n",
      "Introduce el número b: 6\n",
      "\n",
      "Selecciona una opcion: \n",
      "1. suma a+b\n",
      "2. resta a-b\n",
      "3. multiplicacion a*b\n",
      "4. division entera a//b\n",
      "5. division flotante a/b\n",
      "6. modulo a%b\n",
      "7. exponente a^b\n",
      "\n",
      "Introduce tu opcion: 3\n",
      "\n",
      "el resutado de  4 * 6 es =  24\n",
      "\n",
      "desea hacer otra operacion con nuevos numeros: (1.Si/2.No) 1\n",
      "\n",
      "-----------------------------------------------------------------------------\n",
      "Introduce el número a: 90\n",
      "Introduce el número b: 4\n",
      "\n",
      "Selecciona una opcion: \n",
      "1. suma a+b\n",
      "2. resta a-b\n",
      "3. multiplicacion a*b\n",
      "4. division entera a//b\n",
      "5. division flotante a/b\n",
      "6. modulo a%b\n",
      "7. exponente a^b\n",
      "\n",
      "Introduce tu opcion: 5\n",
      "\n",
      "el resutado de  90 / 4 es =  22.5\n",
      "\n",
      "desea hacer otra operacion con nuevos numeros: (1.Si/2.No) 2\n",
      "\n",
      "gracias hasta pronto\n",
      "-----------------------------------------------------------------------------\n"
     ]
    }
   ],
   "source": [
    "def Suma(a,b):\n",
    "    return a+b\n",
    "def Resta(a,b):\n",
    "    return a-b\n",
    "def Multi(a,b):\n",
    "    return a*b\n",
    "def diven(a,b):\n",
    "    return a//b\n",
    "def divflot(a,b):\n",
    "    return a/b\n",
    "def mod(a,b):\n",
    "    return a%b\n",
    "def exp(a,b):\n",
    "    return a**b\n",
    "salir=1\n",
    "while salir==1:\n",
    "    a1 = int(input(\"Introduce el número a: \"))\n",
    "    b1 = int(input(\"Introduce el número b: \"))\n",
    "    print()\n",
    "    print(\"Selecciona una opcion: \")\n",
    "    print(\"1. suma a+b\")\n",
    "    print(\"2. resta a-b\")\n",
    "    print(\"3. multiplicacion a*b\")\n",
    "    print(\"4. division entera a//b\")\n",
    "    print(\"5. division flotante a/b\")\n",
    "    print(\"6. modulo a%b\")\n",
    "    print(\"7. exponente a^b\")\n",
    "    print()\n",
    "    r=int(input(\"Introduce tu opcion: \"))\n",
    "    print()\n",
    "    if r == 1:\n",
    "        print(\"el resutado de \",a1,\"+\",b1,\"es = \",Suma(a1,b1))\n",
    "    elif r == 2:\n",
    "        print(\"el resutado de \",a1,\"-\",b1,\"es = \",Resta(a1,b1))\n",
    "    elif r == 3:\n",
    "        print(\"el resutado de \",a1,\"*\",b1,\"es = \",Multi(a1,b1))\n",
    "    elif r == 4:\n",
    "        print(\"el resutado de \",a1,\"//\",b1,\"es = \",diven(a1,b1))\n",
    "    elif r == 5:\n",
    "        print(\"el resutado de \",a1,\"/\",b1,\"es = \",divflot(a1,b1))\n",
    "    elif r == 6:\n",
    "        print(\"el resutado de \",a1,\"%\",b1,\"es = \",mod(a1,b1))\n",
    "    elif r == 7:\n",
    "        print(\"el resutado de \",a1,\"^\",b1,\"es = \",exp(a1,b1))\n",
    "    else:\n",
    "        print('error')\n",
    "    print()\n",
    "    salir = int(input(\"desea hacer otra operacion con nuevos numeros: \"\"(\"\"1.Si/2.No\"\")\"\" \"))\n",
    "    print()\n",
    "    if salir!=1:\n",
    "        print(\"gracias hasta pronto\")\n",
    "    print(\"-----------------------------------------------------------------------------\")\n",
    "    "
   ]
  },
  {
   "cell_type": "markdown",
   "metadata": {},
   "source": [
    "#### Tuplas\n",
    "\n",
    "- Crear una variable flotante, integer, boleana y compleja e imprimir el tipo de variable que es.\n",
    "\n",
    "- Crear una tupla con valores enteros imprimir el primer y ultimo valor.\n",
    "\n",
    "- Añadir 3 valores de string a la tupla.\n",
    "\n",
    "- Verificar si una variable existe dentro de la tupla."
   ]
  },
  {
   "cell_type": "code",
   "execution_count": 3,
   "metadata": {},
   "outputs": [
    {
     "name": "stdout",
     "output_type": "stream",
     "text": [
      "la variable 3.5 es de tipo: <class 'float'>\n",
      "la variable 10 es de tipo: <class 'int'>\n",
      "la variable True es de tipo: <class 'bool'>\n",
      "la variable (4+3j) es de tipo: <class 'complex'>\n"
     ]
    }
   ],
   "source": [
    "a=3.5\n",
    "b=10\n",
    "c=True\n",
    "d=4+3j\n",
    "print(\"la variable\",a,\"es de tipo:\",type(a))\n",
    "print(\"la variable\",b,\"es de tipo:\",type(b))\n",
    "print(\"la variable\",c,\"es de tipo:\",type(c))\n",
    "print(\"la variable\",d,\"es de tipo:\",type(d))"
   ]
  },
  {
   "cell_type": "code",
   "execution_count": 5,
   "metadata": {},
   "outputs": [
    {
     "name": "stdout",
     "output_type": "stream",
     "text": [
      "la tupla1 tiene los valores: (12, 23, 15, 40, 23, 34, 65)\n",
      "el primer valor de tupla 1 es: 12\n",
      "el ultimo valor de tupla 1 es: 65\n"
     ]
    }
   ],
   "source": [
    "tupla1=(12,23,15,40,23,34,65)\n",
    "print(\"la tupla1 tiene los valores:\",tupla1)\n",
    "print(\"el primer valor de tupla 1 es:\",tupla1[0])\n",
    "print(\"el ultimo valor de tupla 1 es:\",tupla1[-1])\n"
   ]
  },
  {
   "cell_type": "code",
   "execution_count": 6,
   "metadata": {},
   "outputs": [
    {
     "name": "stdout",
     "output_type": "stream",
     "text": [
      "la tupla1 tiene los valores: (12, 23, 15, 40, 23, 34, 65)\n",
      "la tupla2 tiene los valores: (12, 23, 15, 40, 23, 34, 65, 'hola', 'como', 'estas')\n",
      "\n"
     ]
    }
   ],
   "source": [
    "tupla2=tupla1+(\"hola\",\"como\",\"estas\")#para concatenar dos tuplas use este link\n",
    "#https://programacion.net/articulo/como_funcionan_las_tuplas_en_python_1500\n",
    "print(\"la tupla1 tiene los valores:\",tupla1)\n",
    "print(\"la tupla2 tiene los valores:\",tupla2)\n",
    "print()"
   ]
  },
  {
   "cell_type": "code",
   "execution_count": 7,
   "metadata": {},
   "outputs": [
    {
     "name": "stdout",
     "output_type": "stream",
     "text": [
      "ingresa la variable a verificar: 12\n",
      "la variable 12 esta dentro de la tupla\n"
     ]
    }
   ],
   "source": [
    "r= int(input(\"ingresa la variable a verificar: \"))\n",
    "if r in tupla2:\n",
    "    print(\"la variable\",r,\"esta dentro de la tupla\")\n",
    "else:\n",
    "    print(\"la variable\",r,\"no esta dentro de la tupla\")"
   ]
  },
  {
   "cell_type": "markdown",
   "metadata": {},
   "source": [
    "#### Listas\n",
    "\n",
    "- Crear una lista con 40 elementos aleatorios enteros.\n",
    "\n",
    "- Con una funcion (def) crear dos listas nuevas a partir de la lista creada por numeros aleatorios, en la cual en una esten los elementos pares, y en la otra los elementos impares.\n",
    "\n",
    "- Crear dos variables con la longitud de ambas listas nuevas e imprimir las variables.\n",
    "\n",
    "- Ordenar los elementos de la lista par de mayor a menor, y los de la lista impar de menor a mayor.\n",
    "\n",
    "- Utilizar al menos cuatro de las funciones de listas en python en la lista original de 40 elementos.\n"
   ]
  },
  {
   "cell_type": "code",
   "execution_count": 27,
   "metadata": {},
   "outputs": [
    {
     "name": "stdout",
     "output_type": "stream",
     "text": [
      "la lista1 tiene los valores: [71, 94, 73, 87, 46, 76, 23, 85, 14, 78, 14, 17, 7, 68, 59, 91, 89, 36, 90, 43, 79, 50, 34, 88, 24, 22, 73, 7, 54, 36, 7, 99, 95, 72, 29, 5, 58, 2, 2, 61]\n"
     ]
    }
   ],
   "source": [
    "import random as r\n",
    "lista1=[]\n",
    "for i in range(1,41):\n",
    "    lista1.append(r.randint(1,100))\n",
    "print(\"la lista1 tiene los valores:\",lista1)\n"
   ]
  },
  {
   "cell_type": "code",
   "execution_count": 28,
   "metadata": {},
   "outputs": [
    {
     "name": "stdout",
     "output_type": "stream",
     "text": [
      "lista par [94, 46, 76, 14, 78, 14, 68, 36, 90, 50, 34, 88, 24, 22, 54, 36, 72, 58, 2, 2]\n",
      "lista impar [71, 73, 87, 23, 85, 17, 7, 59, 91, 89, 43, 79, 73, 7, 7, 99, 95, 29, 5, 61]\n",
      "\n",
      "la longitud de la lista par es de: 20\n",
      "la longitud de la lista impar es de: 20\n",
      "\n"
     ]
    }
   ],
   "source": [
    "def listas(a):\n",
    "    listapar=[]\n",
    "    listaimpar=[]\n",
    "    for i in a:\n",
    "        if(i%2==0):\n",
    "            listapar.append(i)\n",
    "        else:\n",
    "            listaimpar.append(i)\n",
    "    return listapar,listaimpar\n",
    "x,y=listas(lista1)\n",
    "print(\"lista par\",x)\n",
    "print(\"lista impar\",y)\n",
    "print()\n",
    "longx=len(x)\n",
    "longy=len(y)\n",
    "print(\"la longitud de la lista par es de:\",longx)\n",
    "print(\"la longitud de la lista impar es de:\",longy)\n",
    "print()"
   ]
  },
  {
   "cell_type": "code",
   "execution_count": 29,
   "metadata": {},
   "outputs": [
    {
     "name": "stdout",
     "output_type": "stream",
     "text": [
      "la lista par ordenada de mayor a menor es: [94, 90, 88, 78, 76, 72, 68, 58, 54, 50, 46, 36, 36, 34, 24, 22, 14, 14, 2, 2]\n",
      "la lista impar ordenada de menor a mayor es: [5, 7, 7, 7, 17, 23, 29, 43, 59, 61, 71, 73, 73, 79, 85, 87, 89, 91, 95, 99]\n"
     ]
    }
   ],
   "source": [
    "x.sort(reverse=True)\n",
    "print(\"la lista par ordenada de mayor a menor es:\",x)\n",
    "y.sort()\n",
    "print(\"la lista impar ordenada de menor a mayor es:\",y)"
   ]
  },
  {
   "cell_type": "code",
   "execution_count": 30,
   "metadata": {},
   "outputs": [
    {
     "name": "stdout",
     "output_type": "stream",
     "text": [
      "ingresa la variable a verificar: 7\n",
      "\n",
      "funcion count\n",
      "la variable 7 se repite en la lista: 3 ocasiones\n",
      "\n",
      "funcion index\n",
      "la variable 7 se encuentra en la posicion: 13 de la lista por primera vez\n",
      "\n",
      "funcion remove\n",
      "la variable 7 fue removida su primera aparicion en la lista\n",
      "la variable 7 se repite en la lista: 2 ocasiones\n",
      "\n",
      "funcion insert\n",
      "la variable 7 fue agregada a la lista de nuevo en la posicion que tenia anteriormente\n",
      "la variable 7 se repite en la lista: 3 ocasiones\n",
      "la variable 7 se encuentra en la posicion: 13 de la lista por primera vez\n"
     ]
    }
   ],
   "source": [
    "#para las funciones las encontre en este link\n",
    "#https://entrenamiento-python-basico.readthedocs.io/es/latest/leccion3/tipo_listas.html\n",
    "#funcion count\n",
    "r=int(input(\"ingresa la variable a verificar: \"))\n",
    "print()\n",
    "print(\"funcion count\")\n",
    "print(\"la variable\",r,\"se repite en la lista:\",lista1.count(r),\"ocasiones\")\n",
    "print()\n",
    "#funcion index\n",
    "pos=lista1.index(r)\n",
    "print(\"funcion index\")\n",
    "print(\"la variable\",r,\"se encuentra en la posicion:\",lista1.index(r)+1,\"de la lista por primera vez\")\n",
    "print()\n",
    "#remove\n",
    "lista1.remove(r)\n",
    "print(\"funcion remove\")\n",
    "print(\"la variable\",r,\"fue removida su primera aparicion en la lista\")\n",
    "print(\"la variable\",r,\"se repite en la lista:\",lista1.count(r),\"ocasiones\")\n",
    "print()\n",
    "#insert\n",
    "lista1.insert(pos,r)\n",
    "print(\"funcion insert\")\n",
    "print(\"la variable\",r,\"fue agregada a la lista de nuevo en la posicion que tenia anteriormente\")\n",
    "print(\"la variable\",r,\"se repite en la lista:\",lista1.count(r),\"ocasiones\")\n",
    "print(\"la variable\",r,\"se encuentra en la posicion:\",lista1.index(r)+1,\"de la lista por primera vez\")"
   ]
  },
  {
   "cell_type": "markdown",
   "metadata": {},
   "source": [
    "#### Diccionarios\n",
    "\n",
    "- Crear un diccionario de 6 personas que conozcas con su primer nombre y su edad.\n",
    "\n",
    "- Crear una lista con los valores de la edad y reacomodar la lista de menor a mayor valor.\n",
    "\n",
    "- Usando el diccionario y un loop, imprimir solo los nombres.\n",
    "\n",
    "- Añadir dos personas nuevas a tu diccionario, incluyendo edad."
   ]
  },
  {
   "cell_type": "code",
   "execution_count": 62,
   "metadata": {},
   "outputs": [],
   "source": [
    "personas={\"Juan\":12,\"Pedro\":24,\"Manuel\":36,\"Gabriel\":20,\"Andres\":21,\"Miguel\":14}"
   ]
  },
  {
   "cell_type": "code",
   "execution_count": 65,
   "metadata": {},
   "outputs": [
    {
     "name": "stdout",
     "output_type": "stream",
     "text": [
      "las edades de las personas ordenadas de menor a mayor son: [12, 14, 20, 21, 24, 36]\n"
     ]
    }
   ],
   "source": [
    "edades=list(personas.values())#para esta funcion use este link\n",
    "#https://jarroba.com/diccionario-python-ejemplos/\n",
    "edades.sort()\n",
    "print(\"las edades de las personas ordenadas de menor a mayor son:\",edades)"
   ]
  },
  {
   "cell_type": "code",
   "execution_count": 67,
   "metadata": {},
   "outputs": [
    {
     "name": "stdout",
     "output_type": "stream",
     "text": [
      "1 Juan\n",
      "2 Pedro\n",
      "3 Manuel\n",
      "4 Gabriel\n",
      "5 Andres\n",
      "6 Miguel\n"
     ]
    }
   ],
   "source": [
    "i=1\n",
    "for nombres in personas:\n",
    "    print(i,nombres)\n",
    "    i=i+1"
   ]
  },
  {
   "cell_type": "code",
   "execution_count": 68,
   "metadata": {},
   "outputs": [],
   "source": [
    "personas[\"Adrian\"]=33\n",
    "personas[\"Jose\"]=15"
   ]
  },
  {
   "cell_type": "code",
   "execution_count": 69,
   "metadata": {},
   "outputs": [
    {
     "name": "stdout",
     "output_type": "stream",
     "text": [
      "1 Juan\n",
      "2 Pedro\n",
      "3 Manuel\n",
      "4 Gabriel\n",
      "5 Andres\n",
      "6 Miguel\n",
      "7 Adrian\n",
      "8 Jose\n"
     ]
    }
   ],
   "source": [
    "i=1\n",
    "for nombres in personas:\n",
    "    print(i,nombres)\n",
    "    i=i+1"
   ]
  },
  {
   "cell_type": "markdown",
   "metadata": {},
   "source": [
    "#### Sets\n",
    "\n",
    "- Crea un set con 100 numeros aleatorios enteros del 1 al 25.\n",
    "\n",
    "- Comprueba la longitud de tu set.\n",
    "\n",
    "- Crea una lista de 5 numeros aleatorios del 1 al 10 y comprueba si cada valor aparece en el set inicial.\n"
   ]
  },
  {
   "cell_type": "code",
   "execution_count": 90,
   "metadata": {},
   "outputs": [],
   "source": [
    "import random as r\n",
    "numset=set({})\n",
    "for i in range(1,100):\n",
    "    numset.add(r.randint(1,25))"
   ]
  },
  {
   "cell_type": "code",
   "execution_count": 91,
   "metadata": {},
   "outputs": [
    {
     "name": "stdout",
     "output_type": "stream",
     "text": [
      "la longitud del set es: 25\n"
     ]
    }
   ],
   "source": [
    "print(\"la longitud del set es:\",len(numset))"
   ]
  },
  {
   "cell_type": "code",
   "execution_count": 111,
   "metadata": {},
   "outputs": [
    {
     "name": "stdout",
     "output_type": "stream",
     "text": [
      "el numero 9  se encuentra en el set\n",
      "el numero 10  se encuentra en el set\n",
      "el numero 3  se encuentra en el set\n",
      "el numero 5  se encuentra en el set\n",
      "el numero 1  se encuentra en el set\n"
     ]
    }
   ],
   "source": [
    "import random as r\n",
    "listanum=[]\n",
    "for i in range(1,6):\n",
    "    listanum.append(r.randint(1,10))\n",
    "for num in listanum:\n",
    "    if num in numset:\n",
    "        print(\"el numero\",num,\" se encuentra en el set\")\n",
    "    else:\n",
    "        print(\"el numero\",num,\"no se encuentra en el set\")"
   ]
  }
 ],
 "metadata": {
  "kernelspec": {
   "display_name": "Python 3",
   "language": "python",
   "name": "python3"
  },
  "language_info": {
   "codemirror_mode": {
    "name": "ipython",
    "version": 3
   },
   "file_extension": ".py",
   "mimetype": "text/x-python",
   "name": "python",
   "nbconvert_exporter": "python",
   "pygments_lexer": "ipython3",
   "version": "3.7.6"
  }
 },
 "nbformat": 4,
 "nbformat_minor": 4
}
